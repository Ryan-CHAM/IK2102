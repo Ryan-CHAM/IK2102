{
 "cells": [
  {
   "cell_type": "code",
   "execution_count": 1,
   "metadata": {
    "scrolled": true
   },
   "outputs": [
    {
     "data": {
      "text/plain": [
       "'\\nThis script gives possible paths from present occupation to target occupation.\\nInput:\\n    1. Database of jobs\\n    2. Present occupation\\n    3. Target occupation\\nOutput: Paths\\n'"
      ]
     },
     "execution_count": 1,
     "metadata": {},
     "output_type": "execute_result"
    }
   ],
   "source": [
    "'''\n",
    "This script gives possible paths from present occupation to target occupation.\n",
    "Input:\n",
    "    1. Database of jobs\n",
    "    2. Present occupation\n",
    "    3. Target occupation\n",
    "Output: Paths\n",
    "'''"
   ]
  },
  {
   "cell_type": "code",
   "execution_count": 2,
   "metadata": {},
   "outputs": [],
   "source": [
    "import pandas as pd\n",
    "import networkx as nx"
   ]
  },
  {
   "cell_type": "code",
   "execution_count": 3,
   "metadata": {
    "scrolled": true
   },
   "outputs": [],
   "source": [
    "# TODO: modify input instead of demo input below\n",
    "source = 'software-development'\n",
    "target = 'photography-video'"
   ]
  },
  {
   "cell_type": "code",
   "execution_count": 4,
   "metadata": {},
   "outputs": [],
   "source": [
    "# TODO: insert real data instead of demo data below\n",
    "jobs = pd.read_json(\"support/data.json\")"
   ]
  },
  {
   "cell_type": "code",
   "execution_count": 5,
   "metadata": {},
   "outputs": [],
   "source": [
    "# read data\n",
    "type_vocab, skill_vocab, pair_vocab = {}, {}, {}\n",
    "for i in range(len(jobs)):\n",
    "    t = jobs['tier-2_type'][i]\n",
    "    type_vocab[t] = type_vocab.get(t, 0) + 1\n",
    "    for s in jobs['requirements'][i]['hard_skills']:\n",
    "        skill_vocab[s] = skill_vocab.get(s, 0) + 1\n",
    "        p = (s, t)\n",
    "        pair_vocab[p] = pair_vocab.get(p, 0) + 1"
   ]
  },
  {
   "cell_type": "code",
   "execution_count": 6,
   "metadata": {},
   "outputs": [],
   "source": [
    "# build occupation-skill graph\n",
    "G1 = nx.Graph()\n",
    "for t in type_vocab.keys(): G1.add_node(t)\n",
    "for s in skill_vocab.keys(): G1.add_node(s)\n",
    "for p in pair_vocab.keys(): G1.add_edge(p[0], p[1])"
   ]
  },
  {
   "cell_type": "code",
   "execution_count": 7,
   "metadata": {},
   "outputs": [],
   "source": [
    "# calculate jaccard distance\n",
    "jaccard_dict = {}\n",
    "for t1 in type_vocab.keys():\n",
    "    for t2 in type_vocab.keys():\n",
    "        if not (t1, t2) in jaccard_dict and not (t2, t1) in jaccard_dict and t1 != t2:\n",
    "            s1 = set(G1.neighbors(t1))\n",
    "            s2 = set(G1.neighbors(t2))\n",
    "            jaccard_dict[(t1, t2)] = 1 - len(s1 & s2) / len(s1 | s2)"
   ]
  },
  {
   "cell_type": "code",
   "execution_count": 8,
   "metadata": {},
   "outputs": [],
   "source": [
    "# build job transition graph\n",
    "G2 = nx.Graph()\n",
    "for t in type_vocab.keys(): G2.add_node(t)\n",
    "for j in jaccard_dict.items():\n",
    "    if j[1] <= 0.6: G2.add_edge(j[0][0], j[0][1], weight=j[1])"
   ]
  },
  {
   "cell_type": "code",
   "execution_count": 9,
   "metadata": {},
   "outputs": [
    {
     "name": "stdout",
     "output_type": "stream",
     "text": [
      "Shortest path: ['software-development', 'ui-ux-designer', 'creative-design', 'photography-video']\n",
      "Length: 1.7320430295658946\n"
     ]
    }
   ],
   "source": [
    "# TODO: take output here\n",
    "print(\"Shortest path: %s\" % nx.shortest_path(G2, source, target, 'weight'))\n",
    "print(\"Length: %s\" % nx.shortest_path_length(G2, source, target, 'weight'))"
   ]
  },
  {
   "cell_type": "code",
   "execution_count": null,
   "metadata": {},
   "outputs": [],
   "source": []
  }
 ],
 "metadata": {
  "kernelspec": {
   "display_name": "Python 3",
   "language": "python",
   "name": "python3"
  },
  "language_info": {
   "codemirror_mode": {
    "name": "ipython",
    "version": 3
   },
   "file_extension": ".py",
   "mimetype": "text/x-python",
   "name": "python",
   "nbconvert_exporter": "python",
   "pygments_lexer": "ipython3",
   "version": "3.8.5"
  }
 },
 "nbformat": 4,
 "nbformat_minor": 4
}
