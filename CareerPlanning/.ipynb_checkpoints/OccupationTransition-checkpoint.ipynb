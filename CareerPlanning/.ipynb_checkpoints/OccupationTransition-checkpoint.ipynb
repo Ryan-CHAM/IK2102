{
 "cells": [
  {
   "cell_type": "code",
   "execution_count": 1,
   "metadata": {
    "scrolled": true
   },
   "outputs": [
    {
     "data": {
      "text/plain": [
       "'\\nThis script gives possible paths from present occupation to target occupation.\\nInput:\\n    1. Present occupation\\n    2. Target occupation\\n    3. Threshold\\nOutput: Paths\\n'"
      ]
     },
     "execution_count": 1,
     "metadata": {},
     "output_type": "execute_result"
    }
   ],
   "source": [
    "'''\n",
    "This script gives possible paths from present occupation to target occupation.\n",
    "Input:\n",
    "    1. Present occupation\n",
    "    2. Target occupation\n",
    "    3. Threshold\n",
    "Output: Paths\n",
    "'''"
   ]
  },
  {
   "cell_type": "code",
   "execution_count": 2,
   "metadata": {},
   "outputs": [],
   "source": [
    "import pandas as pd\n",
    "import networkx as nx"
   ]
  },
  {
   "cell_type": "code",
   "execution_count": 3,
   "metadata": {
    "scrolled": true
   },
   "outputs": [],
   "source": [
    "# TODO: modify input instead of demo input below\n",
    "source = 'software-development'\n",
    "target = 'photography-video'"
   ]
  },
  {
   "cell_type": "code",
   "execution_count": 4,
   "metadata": {},
   "outputs": [],
   "source": [
    "# TODO: modify threshold below as the developer wishes\n",
    "THRESHOLD = 0.6"
   ]
  },
  {
   "cell_type": "code",
   "execution_count": 5,
   "metadata": {},
   "outputs": [
    {
     "name": "stdout",
     "output_type": "stream",
     "text": [
      "Shortest path: ['software-development', 'ui-ux-designer', 'creative-design', 'photography-video']\n",
      "Length: 1.7320430295658946\n"
     ]
    }
   ],
   "source": [
    "# read and process data\n",
    "jaccard_dict = {}\n",
    "file = open(\"support/jaccard.txt\", 'r')\n",
    "for l in file.readlines():\n",
    "    l = l.strip()\n",
    "    k = (l.split(\"'\")[1], l.split(\"'\")[3])\n",
    "    v = float(l.split(\": \")[1])\n",
    "    jaccard_dict[k] = v\n",
    "file.close()\n",
    "\n",
    "G = nx.Graph()\n",
    "for j in jaccard_dict.items():\n",
    "    if j[1] <= THRESHOLD: G.add_edge(j[0][0], j[0][1], weight=j[1])\n",
    "\n",
    "# TODO: take output here\n",
    "print(\"Shortest path: %s\" % nx.shortest_path(G, source, target, 'weight'))\n",
    "print(\"Length: %s\" % nx.shortest_path_length(G, source, target, 'weight'))"
   ]
  },
  {
   "cell_type": "code",
   "execution_count": null,
   "metadata": {},
   "outputs": [],
   "source": []
  }
 ],
 "metadata": {
  "kernelspec": {
   "display_name": "Python 3",
   "language": "python",
   "name": "python3"
  },
  "language_info": {
   "codemirror_mode": {
    "name": "ipython",
    "version": 3
   },
   "file_extension": ".py",
   "mimetype": "text/x-python",
   "name": "python",
   "nbconvert_exporter": "python",
   "pygments_lexer": "ipython3",
   "version": "3.8.5"
  }
 },
 "nbformat": 4,
 "nbformat_minor": 4
}
